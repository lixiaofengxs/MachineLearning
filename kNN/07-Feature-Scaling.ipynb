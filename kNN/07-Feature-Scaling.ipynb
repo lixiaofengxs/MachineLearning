{
 "cells": [
  {
   "cell_type": "markdown",
   "id": "0d847888",
   "metadata": {},
   "source": [
    "# 数据归一化"
   ]
  },
  {
   "cell_type": "markdown",
   "id": "833bd9ac",
   "metadata": {},
   "source": [
    "## 1.最值归一化"
   ]
  },
  {
   "cell_type": "code",
   "execution_count": 1,
   "id": "9ecab0b6",
   "metadata": {},
   "outputs": [],
   "source": [
    "import numpy as np\n",
    "import matplotlib.pyplot as plt"
   ]
  },
  {
   "cell_type": "code",
   "execution_count": 2,
   "id": "4fd85e8f",
   "metadata": {},
   "outputs": [],
   "source": [
    "x = np.random.randint(0, 100, size=100)"
   ]
  },
  {
   "cell_type": "code",
   "execution_count": 3,
   "id": "ac220bd6",
   "metadata": {},
   "outputs": [
    {
     "data": {
      "text/plain": [
       "array([28, 14, 10, 57, 86, 65, 67, 66, 63, 53, 77, 87, 65, 36, 37, 30,  7,\n",
       "       96,  1, 99, 64, 41, 23, 95, 57, 59, 20, 80, 20, 82, 34, 83, 14, 38,\n",
       "       79, 72, 17, 15, 17, 95, 23, 49, 49, 68, 60, 92, 49, 21, 66, 27, 46,\n",
       "       37, 18, 57, 23, 53, 13, 34, 57, 95, 69, 98, 83, 87, 10, 87, 38, 36,\n",
       "       38, 77, 88, 24, 56, 12, 13,  2, 24, 22, 41, 91, 91, 82,  7, 36, 62,\n",
       "       76, 82, 46, 62, 56, 80, 88, 71, 45, 76, 90, 41, 99, 26,  4])"
      ]
     },
     "execution_count": 3,
     "metadata": {},
     "output_type": "execute_result"
    }
   ],
   "source": [
    "x"
   ]
  },
  {
   "cell_type": "code",
   "execution_count": 4,
   "id": "b115d4c5",
   "metadata": {},
   "outputs": [
    {
     "data": {
      "text/plain": [
       "array([0.2755102 , 0.13265306, 0.09183673, 0.57142857, 0.86734694,\n",
       "       0.65306122, 0.67346939, 0.66326531, 0.63265306, 0.53061224,\n",
       "       0.7755102 , 0.87755102, 0.65306122, 0.35714286, 0.36734694,\n",
       "       0.29591837, 0.06122449, 0.96938776, 0.        , 1.        ,\n",
       "       0.64285714, 0.40816327, 0.2244898 , 0.95918367, 0.57142857,\n",
       "       0.59183673, 0.19387755, 0.80612245, 0.19387755, 0.82653061,\n",
       "       0.33673469, 0.83673469, 0.13265306, 0.37755102, 0.79591837,\n",
       "       0.7244898 , 0.16326531, 0.14285714, 0.16326531, 0.95918367,\n",
       "       0.2244898 , 0.48979592, 0.48979592, 0.68367347, 0.60204082,\n",
       "       0.92857143, 0.48979592, 0.20408163, 0.66326531, 0.26530612,\n",
       "       0.45918367, 0.36734694, 0.17346939, 0.57142857, 0.2244898 ,\n",
       "       0.53061224, 0.12244898, 0.33673469, 0.57142857, 0.95918367,\n",
       "       0.69387755, 0.98979592, 0.83673469, 0.87755102, 0.09183673,\n",
       "       0.87755102, 0.37755102, 0.35714286, 0.37755102, 0.7755102 ,\n",
       "       0.8877551 , 0.23469388, 0.56122449, 0.1122449 , 0.12244898,\n",
       "       0.01020408, 0.23469388, 0.21428571, 0.40816327, 0.91836735,\n",
       "       0.91836735, 0.82653061, 0.06122449, 0.35714286, 0.62244898,\n",
       "       0.76530612, 0.82653061, 0.45918367, 0.62244898, 0.56122449,\n",
       "       0.80612245, 0.8877551 , 0.71428571, 0.44897959, 0.76530612,\n",
       "       0.90816327, 0.40816327, 1.        , 0.25510204, 0.03061224])"
      ]
     },
     "execution_count": 4,
     "metadata": {},
     "output_type": "execute_result"
    }
   ],
   "source": [
    "(x - np.min(x)) / (np.max(x) - np.min(x)) #向量最值归一化"
   ]
  },
  {
   "cell_type": "code",
   "execution_count": 5,
   "id": "677951ba",
   "metadata": {},
   "outputs": [],
   "source": [
    "X = np.random.randint(0, 100, (50, 2))"
   ]
  },
  {
   "cell_type": "code",
   "execution_count": 6,
   "id": "80d1248a",
   "metadata": {},
   "outputs": [
    {
     "data": {
      "text/plain": [
       "array([[33, 72],\n",
       "       [89, 46],\n",
       "       [81, 96],\n",
       "       [38,  8],\n",
       "       [90, 11],\n",
       "       [ 0, 93],\n",
       "       [ 7, 17],\n",
       "       [91, 80],\n",
       "       [ 4, 77],\n",
       "       [52, 19]])"
      ]
     },
     "execution_count": 6,
     "metadata": {},
     "output_type": "execute_result"
    }
   ],
   "source": [
    "X[:10, :]"
   ]
  },
  {
   "cell_type": "code",
   "execution_count": 7,
   "id": "577d928e",
   "metadata": {},
   "outputs": [],
   "source": [
    "X = np.array(X, dtype=float)"
   ]
  },
  {
   "cell_type": "code",
   "execution_count": 8,
   "id": "cf6e5fc0",
   "metadata": {},
   "outputs": [
    {
     "data": {
      "text/plain": [
       "array([[33., 72.],\n",
       "       [89., 46.],\n",
       "       [81., 96.],\n",
       "       [38.,  8.],\n",
       "       [90., 11.],\n",
       "       [ 0., 93.],\n",
       "       [ 7., 17.],\n",
       "       [91., 80.],\n",
       "       [ 4., 77.],\n",
       "       [52., 19.]])"
      ]
     },
     "execution_count": 8,
     "metadata": {},
     "output_type": "execute_result"
    }
   ],
   "source": [
    "X[:10, :]"
   ]
  },
  {
   "cell_type": "code",
   "execution_count": 9,
   "id": "ea0e8d4d",
   "metadata": {},
   "outputs": [
    {
     "data": {
      "text/plain": [
       "array([0.33333333, 0.8989899 , 0.81818182, 0.38383838, 0.90909091,\n",
       "       0.        , 0.07070707, 0.91919192, 0.04040404, 0.52525253,\n",
       "       0.92929293, 0.57575758, 0.77777778, 0.24242424, 0.66666667,\n",
       "       0.58585859, 0.46464646, 0.78787879, 0.5959596 , 0.01010101,\n",
       "       0.47474747, 0.17171717, 0.48484848, 0.06060606, 0.36363636,\n",
       "       1.        , 0.16161616, 0.86868687, 0.4040404 , 0.64646465,\n",
       "       0.26262626, 0.01010101, 0.4040404 , 0.80808081, 0.21212121,\n",
       "       0.11111111, 0.58585859, 0.4040404 , 0.49494949, 0.50505051,\n",
       "       0.31313131, 0.11111111, 0.45454545, 0.70707071, 0.04040404,\n",
       "       0.04040404, 0.61616162, 0.73737374, 0.11111111, 0.23232323])"
      ]
     },
     "execution_count": 9,
     "metadata": {},
     "output_type": "execute_result"
    }
   ],
   "source": [
    "X[:,0] = (X[:,0] - np.min(X[:,0])) / (np.max(X[:,0]) - np.min(X[:,0]))\n",
    "X[:,0]"
   ]
  },
  {
   "cell_type": "code",
   "execution_count": 10,
   "id": "e6b1b639",
   "metadata": {},
   "outputs": [],
   "source": [
    "X[:,1] = (X[:,1] - np.min(X[:,1])) / (np.max(X[:,1]) - np.min(X[:,1]))"
   ]
  },
  {
   "cell_type": "code",
   "execution_count": 13,
   "id": "494315f2",
   "metadata": {},
   "outputs": [
    {
     "data": {
      "text/plain": [
       "array([[0.33333333, 0.75      ],\n",
       "       [0.8989899 , 0.47916667],\n",
       "       [0.81818182, 1.        ],\n",
       "       [0.38383838, 0.08333333],\n",
       "       [0.90909091, 0.11458333],\n",
       "       [0.        , 0.96875   ],\n",
       "       [0.07070707, 0.17708333],\n",
       "       [0.91919192, 0.83333333],\n",
       "       [0.04040404, 0.80208333],\n",
       "       [0.52525253, 0.19791667]])"
      ]
     },
     "execution_count": 13,
     "metadata": {},
     "output_type": "execute_result"
    }
   ],
   "source": [
    "X[:10, :]"
   ]
  },
  {
   "cell_type": "code",
   "execution_count": 12,
   "id": "e1158bb1",
   "metadata": {},
   "outputs": [
    {
     "data": {
      "image/png": "[encoded data removed]",
      "text/plain": [
       "<Figure size 640x480 with 1 Axes>"
      ]
     },
     "metadata": {},
     "output_type": "display_data"
    }
   ],
   "source": [
    "plt.scatter(X[:,0], X[:,1])\n",
    "plt.show()"
   ]
  },
  {
   "cell_type": "code",
   "execution_count": 14,
   "id": "68a86ff8",
   "metadata": {},
   "outputs": [
    {
     "data": {
      "text/plain": [
       "0.44666666666666666"
      ]
     },
     "execution_count": 14,
     "metadata": {},
     "output_type": "execute_result"
    }
   ],
   "source": [
    "np.mean(X[:,0])"
   ]
  },
  {
   "cell_type": "code",
   "execution_count": 15,
   "id": "a53ae49b",
   "metadata": {},
   "outputs": [
    {
     "data": {
      "text/plain": [
       "0.29324462303316573"
      ]
     },
     "execution_count": 15,
     "metadata": {},
     "output_type": "execute_result"
    }
   ],
   "source": [
    "np.std(X[:,0])"
   ]
  },
  {
   "cell_type": "markdown",
   "id": "1d77ad90",
   "metadata": {},
   "source": [
    "## 2.均值方差归一化"
   ]
  },
  {
   "cell_type": "code",
   "execution_count": 16,
   "id": "20119b37",
   "metadata": {},
   "outputs": [],
   "source": [
    "X[:, 0] = (X[:, 0] - np.mean(X[:, 0])) / np.std(X[:, 0])"
   ]
  },
  {
   "cell_type": "code",
   "execution_count": 17,
   "id": "977b4e21",
   "metadata": {},
   "outputs": [],
   "source": [
    "X[:, 1] = (X[:, 1] - np.mean(X[:, 1])) / np.std(X[:, 1])"
   ]
  },
  {
   "cell_type": "code",
   "execution_count": 18,
   "id": "84b88b47",
   "metadata": {},
   "outputs": [
    {
     "data": {
      "text/plain": [
       "array([[-0.38648052,  0.90075326],\n",
       "       [ 1.5424775 ,  0.00687598],\n",
       "       [ 1.26691207,  1.72587075],\n",
       "       [-0.21425212, -1.29956005],\n",
       "       [ 1.57692318, -1.19642036],\n",
       "       [-1.52318792,  1.62273107],\n",
       "       [-1.28206817, -0.99014099],\n",
       "       [ 1.61136886,  1.17579242],\n",
       "       [-1.3854052 ,  1.07265274],\n",
       "       [ 0.26798738, -0.9213812 ]])"
      ]
     },
     "execution_count": 18,
     "metadata": {},
     "output_type": "execute_result"
    }
   ],
   "source": [
    "X[:10, :]"
   ]
  },
  {
   "cell_type": "code",
   "execution_count": 19,
   "id": "c2b4f894",
   "metadata": {},
   "outputs": [
    {
     "data": {
      "text/plain": [
       "4.218847493575595e-17"
      ]
     },
     "execution_count": 19,
     "metadata": {},
     "output_type": "execute_result"
    }
   ],
   "source": [
    "np.mean(X[:, 0])"
   ]
  },
  {
   "cell_type": "code",
   "execution_count": 20,
   "id": "d66f7ab8",
   "metadata": {},
   "outputs": [
    {
     "data": {
      "text/plain": [
       "1.0"
      ]
     },
     "execution_count": 20,
     "metadata": {},
     "output_type": "execute_result"
    }
   ],
   "source": [
    "np.std(X[:, 0])"
   ]
  },
  {
   "cell_type": "code",
   "execution_count": 21,
   "id": "6daccba3",
   "metadata": {},
   "outputs": [
    {
     "data": {
      "text/plain": [
       "-8.659739592076221e-17"
      ]
     },
     "execution_count": 21,
     "metadata": {},
     "output_type": "execute_result"
    }
   ],
   "source": [
    "np.mean(X[:, 1])"
   ]
  },
  {
   "cell_type": "code",
   "execution_count": 22,
   "id": "a9dc76f3",
   "metadata": {},
   "outputs": [
    {
     "data": {
      "text/plain": [
       "1.0"
      ]
     },
     "execution_count": 22,
     "metadata": {},
     "output_type": "execute_result"
    }
   ],
   "source": [
    "np.std(X[:, 1])"
   ]
  },
  {
   "cell_type": "code",
   "execution_count": null,
   "id": "5b1b80db",
   "metadata": {},
   "outputs": [],
   "source": []
  }
 ],
 "metadata": {
  "kernelspec": {
   "display_name": "Python 3 (ipykernel)",
   "language": "python",
   "name": "python3"
  },
  "language_info": {
   "codemirror_mode": {
    "name": "ipython",
    "version": 3
   },
   "file_extension": ".py",
   "mimetype": "text/x-python",
   "name": "python",
   "nbconvert_exporter": "python",
   "pygments_lexer": "ipython3",
   "version": "3.10.9"
  }
 },
 "nbformat": 4,
 "nbformat_minor": 5
}
