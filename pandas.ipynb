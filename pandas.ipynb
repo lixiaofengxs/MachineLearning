{
 "cells": [
  {
   "cell_type": "code",
   "execution_count": 1,
   "id": "ad674b92-cdd1-4c1b-b10e-e4a8ff891922",
   "metadata": {},
   "outputs": [],
   "source": [
    "import numpy as np\n",
    "import pandas as pd"
   ]
  },
  {
   "cell_type": "markdown",
   "id": "d46c0f5f-d44b-4e6e-9e5a-3dc7df255390",
   "metadata": {},
   "source": [
    "## 基本数据结构\n",
    "1. Series：保存任意类型数据的一维数组。\n",
    "2. DataFrame：二维数据结构，保存数据\n",
    "\n",
    "## 对象创建\n"
   ]
  },
  {
   "cell_type": "code",
   "execution_count": null,
   "id": "e39f5206-9249-46ec-9eb3-a6f45098102a",
   "metadata": {},
   "outputs": [],
   "source": []
  }
 ],
 "metadata": {
  "kernelspec": {
   "display_name": "Python 3 (ipykernel)",
   "language": "python",
   "name": "python3"
  },
  "language_info": {
   "codemirror_mode": {
    "name": "ipython",
    "version": 3
   },
   "file_extension": ".py",
   "mimetype": "text/x-python",
   "name": "python",
   "nbconvert_exporter": "python",
   "pygments_lexer": "ipython3",
   "version": "3.12.1"
  }
 },
 "nbformat": 4,
 "nbformat_minor": 5
}
