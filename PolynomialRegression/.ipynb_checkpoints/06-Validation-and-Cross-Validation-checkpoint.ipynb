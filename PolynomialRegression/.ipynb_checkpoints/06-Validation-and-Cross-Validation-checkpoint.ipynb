{
 "cells": [
  {
   "cell_type": "markdown",
   "id": "7c801ee7-c5bd-4dc3-ba73-55b2dcedef1d",
   "metadata": {},
   "source": [
    "# 交叉验证"
   ]
  },
  {
   "cell_type": "code",
   "execution_count": 1,
   "id": "f370d8d6-8e4f-41d7-8010-a586b5c4fa5f",
   "metadata": {},
   "outputs": [],
   "source": [
    "import numpy as np\n",
    "from sklearn import datasets"
   ]
  },
  {
   "cell_type": "code",
   "execution_count": 2,
   "id": "2739e859-641c-492b-9599-fab89ccf701c",
   "metadata": {},
   "outputs": [],
   "source": [
    "digits = datasets.load_digits()\n",
    "X = digits.data\n",
    "y = digits.target"
   ]
  },
  {
   "cell_type": "markdown",
   "id": "84db8de5-730e-4975-a3fe-50c648083d07",
   "metadata": {},
   "source": [
    "# 测试 train_test_split"
   ]
  },
  {
   "cell_type": "code",
   "execution_count": 3,
   "id": "e36562ce-7f1f-4cf3-b0c1-3e2d1c1ebdb4",
   "metadata": {},
   "outputs": [],
   "source": [
    "from sklearn.model_selection import train_test_split\n",
    "\n",
    "X_train, X_test, y_train, y_test = train_test_split(X, y, test_size=0.4, random_state=666)"
   ]
  },
  {
   "cell_type": "code",
   "execution_count": 4,
   "id": "4f20d406-500f-4d05-98f6-7f2db02cbe4a",
   "metadata": {},
   "outputs": [
    {
     "name": "stdout",
     "output_type": "stream",
     "text": [
      "best_score:  0.9916550764951322\n",
      "best_k:  6\n",
      "best_p:  3\n"
     ]
    }
   ],
   "source": [
    "from sklearn.neighbors import KNeighborsClassifier\n",
    "\n",
    "best_score, best_k, best_p = 0, 0, 0\n",
    "for k in range(2, 10):\n",
    "    for p in range(1, 6):\n",
    "        knn_clf = KNeighborsClassifier(weights=\"distance\", n_neighbors=k, p=p)\n",
    "        knn_clf.fit(X_train, y_train)\n",
    "        score = knn_clf.score(X_test, y_test)\n",
    "        if score > best_score:\n",
    "            best_score, best_k, best_p = score, k, p\n",
    "\n",
    "print(\"best_score: \", best_score)\n",
    "print(\"best_k: \", best_k)\n",
    "print(\"best_p: \", best_p)"
   ]
  },
  {
   "cell_type": "code",
   "execution_count": null,
   "id": "dc303023-17d8-4cfe-974e-a5d9081a0de1",
   "metadata": {},
   "outputs": [],
   "source": []
  }
 ],
 "metadata": {
  "kernelspec": {
   "display_name": "Python 3 (ipykernel)",
   "language": "python",
   "name": "python3"
  },
  "language_info": {
   "codemirror_mode": {
    "name": "ipython",
    "version": 3
   },
   "file_extension": ".py",
   "mimetype": "text/x-python",
   "name": "python",
   "nbconvert_exporter": "python",
   "pygments_lexer": "ipython3",
   "version": "3.12.1"
  }
 },
 "nbformat": 4,
 "nbformat_minor": 5
}
