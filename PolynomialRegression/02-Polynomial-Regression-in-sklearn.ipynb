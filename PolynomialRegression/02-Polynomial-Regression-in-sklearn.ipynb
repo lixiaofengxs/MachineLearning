{
 "cells": [
  {
   "cell_type": "markdown",
   "id": "193c8432-df37-4a96-8282-8880fcc88a21",
   "metadata": {},
   "source": [
    "# sklearn 中的多项式回归和 Pipeline"
   ]
  },
  {
   "cell_type": "code",
   "execution_count": 25,
   "id": "db1ba276-d5ed-44ff-80a8-a8a714f72dee",
   "metadata": {},
   "outputs": [],
   "source": [
    "import numpy as np\n",
    "import matplotlib.pyplot as plt"
   ]
  },
  {
   "cell_type": "code",
   "execution_count": 26,
   "id": "860f7edc-fb48-4c32-810f-f26c75baebab",
   "metadata": {},
   "outputs": [],
   "source": [
    "x = np.random.uniform(-3, 3, size=100)\n",
    "X = x.reshape(-1, 1)\n",
    "\n",
    "y = 0.5 * x**2 + x + 2 + np.random.normal(0, 1, size=100)"
   ]
  },
  {
   "cell_type": "code",
   "execution_count": 27,
   "id": "bb6cf4f7-6f96-4c12-a8f0-ac8b1163a138",
   "metadata": {},
   "outputs": [],
   "source": [
    "from sklearn.preprocessing import PolynomialFeatures"
   ]
  },
  {
   "cell_type": "code",
   "execution_count": 28,
   "id": "cd917033-a483-41c0-bb40-d034b488d4f2",
   "metadata": {},
   "outputs": [],
   "source": [
    "poly = PolynomialFeatures(degree=2) #degree, 最大到 X 的多少次幂\n",
    "poly.fit(X)\n",
    "X2 = poly.transform(X)"
   ]
  },
  {
   "cell_type": "code",
   "execution_count": 29,
   "id": "d99d2e7c-fbf1-47d0-8794-df98aa587779",
   "metadata": {},
   "outputs": [
    {
     "data": {
      "text/plain": [
       "(100, 3)"
      ]
     },
     "execution_count": 29,
     "metadata": {},
     "output_type": "execute_result"
    }
   ],
   "source": [
    "X2.shape"
   ]
  },
  {
   "cell_type": "code",
   "execution_count": 30,
   "id": "e2d62dd4-764c-430a-933f-b35030535676",
   "metadata": {},
   "outputs": [
    {
     "data": {
      "text/plain": [
       "array([[ 1.        ,  0.77166987,  0.59547438],\n",
       "       [ 1.        ,  0.63367176,  0.4015399 ],\n",
       "       [ 1.        , -1.68328789,  2.83345813],\n",
       "       [ 1.        , -0.50251917,  0.25252551],\n",
       "       [ 1.        , -0.4288981 ,  0.18395358]])"
      ]
     },
     "execution_count": 30,
     "metadata": {},
     "output_type": "execute_result"
    }
   ],
   "source": [
    "X2[:5, :] # [X^0, X^1, X^2]"
   ]
  },
  {
   "cell_type": "code",
   "execution_count": 31,
   "id": "19a47c83-5476-4b84-9ea3-d1c3ca0c645f",
   "metadata": {},
   "outputs": [
    {
     "data": {
      "text/plain": [
       "array([[ 0.77166987],\n",
       "       [ 0.63367176],\n",
       "       [-1.68328789],\n",
       "       [-0.50251917],\n",
       "       [-0.4288981 ]])"
      ]
     },
     "execution_count": 31,
     "metadata": {},
     "output_type": "execute_result"
    }
   ],
   "source": [
    "X[:5, :]"
   ]
  },
  {
   "cell_type": "code",
   "execution_count": 32,
   "id": "d7721b55-552c-4e39-82d1-2f1a97bc13b4",
   "metadata": {},
   "outputs": [],
   "source": [
    "from sklearn.linear_model import LinearRegression"
   ]
  },
  {
   "cell_type": "code",
   "execution_count": 33,
   "id": "af68fcf7-f734-4b24-aefb-858ed69bfc8c",
   "metadata": {},
   "outputs": [],
   "source": [
    "lin_reg2 = LinearRegression()\n",
    "lin_reg2.fit(X2, y)\n",
    "y_predict2 = lin_reg2.predict(X2)"
   ]
  },
  {
   "cell_type": "code",
   "execution_count": 34,
   "id": "adfebb5f-4607-4db1-a47f-54bb675def29",
   "metadata": {},
   "outputs": [
    {
     "data": {
      "image/png": "[encoded data removed]",
      "text/plain": [
       "<Figure size 640x480 with 1 Axes>"
      ]
     },
     "metadata": {},
     "output_type": "display_data"
    }
   ],
   "source": [
    "plt.scatter(x, y)\n",
    "plt.plot(np.sort(x), y_predict2[np.argsort(x)], color='r')\n",
    "plt.show()"
   ]
  },
  {
   "cell_type": "code",
   "execution_count": 35,
   "id": "c35040fa-dc61-4432-a827-81b3d75b536c",
   "metadata": {},
   "outputs": [
    {
     "data": {
      "text/plain": [
       "array([0.        , 0.9779022 , 0.52012365])"
      ]
     },
     "execution_count": 35,
     "metadata": {},
     "output_type": "execute_result"
    }
   ],
   "source": [
    "lin_reg2.coef_"
   ]
  },
  {
   "cell_type": "code",
   "execution_count": 36,
   "id": "2ba96ffb-e025-408b-a5ed-de0f17c82757",
   "metadata": {},
   "outputs": [
    {
     "data": {
      "text/plain": [
       "2.0793310298946857"
      ]
     },
     "execution_count": 36,
     "metadata": {},
     "output_type": "execute_result"
    }
   ],
   "source": [
    "lin_reg2.intercept_"
   ]
  },
  {
   "cell_type": "markdown",
   "id": "405f35c9-b2f3-4601-9b15-6fa26747be96",
   "metadata": {},
   "source": [
    "# 关于 PolynomialFeatures"
   ]
  },
  {
   "cell_type": "code",
   "execution_count": 37,
   "id": "df1e0e76-cefe-46dd-b628-20e2ba4bbc97",
   "metadata": {},
   "outputs": [
    {
     "data": {
      "text/plain": [
       "(5, 2)"
      ]
     },
     "execution_count": 37,
     "metadata": {},
     "output_type": "execute_result"
    }
   ],
   "source": [
    "X = np.arange(1, 11).reshape(-1, 2)\n",
    "X.shape"
   ]
  },
  {
   "cell_type": "code",
   "execution_count": 38,
   "id": "277da37a-91f4-46d4-9dff-5a1ed1b452b7",
   "metadata": {},
   "outputs": [
    {
     "data": {
      "text/plain": [
       "array([[ 1,  2],\n",
       "       [ 3,  4],\n",
       "       [ 5,  6],\n",
       "       [ 7,  8],\n",
       "       [ 9, 10]])"
      ]
     },
     "execution_count": 38,
     "metadata": {},
     "output_type": "execute_result"
    }
   ],
   "source": [
    "X"
   ]
  },
  {
   "cell_type": "code",
   "execution_count": 39,
   "id": "6a0135ee-c525-41ab-b0c2-48b677dc6c05",
   "metadata": {},
   "outputs": [],
   "source": [
    "poly = PolynomialFeatures(degree=2)\n",
    "poly.fit(X)\n",
    "X2 = poly.transform(X)"
   ]
  },
  {
   "cell_type": "code",
   "execution_count": 40,
   "id": "db4fd3f7-0e20-41d7-8db3-3e11965febee",
   "metadata": {},
   "outputs": [
    {
     "data": {
      "text/plain": [
       "(5, 6)"
      ]
     },
     "execution_count": 40,
     "metadata": {},
     "output_type": "execute_result"
    }
   ],
   "source": [
    "X2.shape"
   ]
  },
  {
   "cell_type": "code",
   "execution_count": 41,
   "id": "822e1bd5-1795-446d-8519-cb57ab95ed93",
   "metadata": {},
   "outputs": [
    {
     "data": {
      "text/plain": [
       "array([[  1.,   1.,   2.,   1.,   2.,   4.],\n",
       "       [  1.,   3.,   4.,   9.,  12.,  16.],\n",
       "       [  1.,   5.,   6.,  25.,  30.,  36.],\n",
       "       [  1.,   7.,   8.,  49.,  56.,  64.],\n",
       "       [  1.,   9.,  10.,  81.,  90., 100.]])"
      ]
     },
     "execution_count": 41,
     "metadata": {},
     "output_type": "execute_result"
    }
   ],
   "source": [
    "X2 # [X^0, X1^1, X2^1, X1^2, X1X2, X2^2]"
   ]
  },
  {
   "cell_type": "code",
   "execution_count": 42,
   "id": "59f18fa7-6de1-4115-a008-165a2af2e8b8",
   "metadata": {},
   "outputs": [],
   "source": [
    "poly = PolynomialFeatures(degree=3)\n",
    "poly.fit(X)\n",
    "X3 = poly.transform(X)"
   ]
  },
  {
   "cell_type": "code",
   "execution_count": 43,
   "id": "2730138a-9c1c-439a-ba15-051beaaffbaf",
   "metadata": {},
   "outputs": [
    {
     "data": {
      "text/plain": [
       "(5, 10)"
      ]
     },
     "execution_count": 43,
     "metadata": {},
     "output_type": "execute_result"
    }
   ],
   "source": [
    "X3.shape"
   ]
  },
  {
   "cell_type": "code",
   "execution_count": 44,
   "id": "b4e7489b-c757-45f9-9b1d-a68d9219e536",
   "metadata": {},
   "outputs": [
    {
     "data": {
      "text/plain": [
       "array([[   1.,    1.,    2.,    1.,    2.,    4.,    1.,    2.,    4.,\n",
       "           8.],\n",
       "       [   1.,    3.,    4.,    9.,   12.,   16.,   27.,   36.,   48.,\n",
       "          64.],\n",
       "       [   1.,    5.,    6.,   25.,   30.,   36.,  125.,  150.,  180.,\n",
       "         216.],\n",
       "       [   1.,    7.,    8.,   49.,   56.,   64.,  343.,  392.,  448.,\n",
       "         512.],\n",
       "       [   1.,    9.,   10.,   81.,   90.,  100.,  729.,  810.,  900.,\n",
       "        1000.]])"
      ]
     },
     "execution_count": 44,
     "metadata": {},
     "output_type": "execute_result"
    }
   ],
   "source": [
    "X3 # [1, x1, x2, x1^2, x2^2, x1x2, x1^3, x2^3, x1^2x2, x1x2^2]"
   ]
  },
  {
   "cell_type": "markdown",
   "id": "2a596848-478b-4eb1-a83e-13965669b858",
   "metadata": {},
   "source": [
    "# Pipeline"
   ]
  },
  {
   "cell_type": "code",
   "execution_count": 45,
   "id": "f0208a68-7d32-4b7b-8ae8-2a67092f4262",
   "metadata": {},
   "outputs": [],
   "source": [
    "x = np.random.uniform(-3, 3, size=100)\n",
    "X = x.reshape(-1, 1)\n",
    "\n",
    "y = 0.5 * x**2 + x + 2 + np.random.normal(0, 1, size=100)"
   ]
  },
  {
   "cell_type": "code",
   "execution_count": 46,
   "id": "4c4a9859-000b-4d28-81dd-2e874e48c76c",
   "metadata": {},
   "outputs": [],
   "source": [
    "from sklearn.pipeline import Pipeline\n",
    "from sklearn.preprocessing import StandardScaler\n",
    "\n",
    "poly_reg = Pipeline([\n",
    "    (\"poly\", PolynomialFeatures(degree=2)),\n",
    "    (\"std_scaler\", StandardScaler()),\n",
    "    (\"lin_reg\", LinearRegression())\n",
    "])"
   ]
  },
  {
   "cell_type": "code",
   "execution_count": 47,
   "id": "ad57f0d6-a96f-4629-8843-02bd8fae71e5",
   "metadata": {},
   "outputs": [],
   "source": [
    "poly_reg.fit(X, y)\n",
    "y_predict = poly_reg.predict(X)"
   ]
  },
  {
   "cell_type": "code",
   "execution_count": 48,
   "id": "5f3cfb64-25cf-41db-821a-6246c339786b",
   "metadata": {},
   "outputs": [
    {
     "data": {
      "image/png": "[encoded data removed]",
      "text/plain": [
       "<Figure size 640x480 with 1 Axes>"
      ]
     },
     "metadata": {},
     "output_type": "display_data"
    }
   ],
   "source": [
    "plt.scatter(x, y)\n",
    "plt.plot(np.sort(x), y_predict[np.argsort(x)], color='r')\n",
    "plt.show()"
   ]
  },
  {
   "cell_type": "code",
   "execution_count": null,
   "id": "b39a6902-9541-4942-898a-be5ba2dd497f",
   "metadata": {},
   "outputs": [],
   "source": []
  }
 ],
 "metadata": {
  "kernelspec": {
   "display_name": "Python 3 (ipykernel)",
   "language": "python",
   "name": "python3"
  },
  "language_info": {
   "codemirror_mode": {
    "name": "ipython",
    "version": 3
   },
   "file_extension": ".py",
   "mimetype": "text/x-python",
   "name": "python",
   "nbconvert_exporter": "python",
   "pygments_lexer": "ipython3",
   "version": "3.12.1"
  }
 },
 "nbformat": 4,
 "nbformat_minor": 5
}
