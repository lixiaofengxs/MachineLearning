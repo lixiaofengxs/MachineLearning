{
 "cells": [
  {
   "cell_type": "code",
   "execution_count": 32,
   "id": "b90e8f60-e89e-4dc8-8582-1eeb9500a292",
   "metadata": {},
   "outputs": [],
   "source": [
    "import numpy as np"
   ]
  },
  {
   "cell_type": "markdown",
   "id": "d5420d7f-d353-404b-8ad0-8e3b29cebf8f",
   "metadata": {},
   "source": [
    "# 基础\n",
    "numpy 的主要对象是多维数组，它是一个元素表(通常是数字)，所有元素都具有相同的类型。由非负整数元组索引。在 numpy 中，维度称为轴。\n",
    "\n",
    "例如:\n",
    "\n",
    " [1, 2 ,3]有 1 个轴，该轴有 3 个元素。它的长度为 3。\n",
    "\n",
    " [[1, 2, 3],\n",
    "  [4, ,5 6]] 有 2 个轴。第一个轴的长度为 2(行)，第二个轴的长度为 3(列)。\n",
    "\n",
    "numpy 的数组称为 ndarray，ndarray对象的重要熟悉有:\n",
    "* ndarray.ndim 数组的轴数(维度)\n",
    "* ndarray.shape 数组的维度。对于 n 行 m 列的数组，shape 是(n, m)。shape 元组的长度就是轴数 ndim\n",
    "* ndarray.size 数组元素的总个数\n",
    "* ndarray.dtype 数组中元素类型的对象\n",
    "* ndarray.itemsize 数组中每个元素的大小（以字节为单位）"
   ]
  },
  {
   "cell_type": "code",
   "execution_count": 33,
   "id": "cb05ce8f-937e-4367-b379-a241bc1a38ae",
   "metadata": {},
   "outputs": [
    {
     "data": {
      "text/plain": [
       "array([[ 0,  1,  2,  3,  4],\n",
       "       [ 5,  6,  7,  8,  9],\n",
       "       [10, 11, 12, 13, 14]])"
      ]
     },
     "execution_count": 33,
     "metadata": {},
     "output_type": "execute_result"
    }
   ],
   "source": [
    "a = np.arange(15).reshape(3, 5)\n",
    "a"
   ]
  },
  {
   "cell_type": "code",
   "execution_count": 34,
   "id": "2cabf01a-e063-49ba-b417-9d21367f624f",
   "metadata": {},
   "outputs": [
    {
     "data": {
      "text/plain": [
       "(3, 5)"
      ]
     },
     "execution_count": 34,
     "metadata": {},
     "output_type": "execute_result"
    }
   ],
   "source": [
    "a.shape"
   ]
  },
  {
   "cell_type": "code",
   "execution_count": 35,
   "id": "7180e873-98f3-4047-b167-09245ceb8c60",
   "metadata": {},
   "outputs": [
    {
     "data": {
      "text/plain": [
       "2"
      ]
     },
     "execution_count": 35,
     "metadata": {},
     "output_type": "execute_result"
    }
   ],
   "source": [
    "a.ndim"
   ]
  },
  {
   "cell_type": "code",
   "execution_count": 36,
   "id": "6c88420f-33ba-4408-86b7-247fb23796b8",
   "metadata": {},
   "outputs": [
    {
     "data": {
      "text/plain": [
       "'int64'"
      ]
     },
     "execution_count": 36,
     "metadata": {},
     "output_type": "execute_result"
    }
   ],
   "source": [
    "a.dtype.name"
   ]
  },
  {
   "cell_type": "code",
   "execution_count": 37,
   "id": "c6e84acb-c518-4759-9155-18f697fd1221",
   "metadata": {},
   "outputs": [
    {
     "data": {
      "text/plain": [
       "8"
      ]
     },
     "execution_count": 37,
     "metadata": {},
     "output_type": "execute_result"
    }
   ],
   "source": [
    "a.itemsize"
   ]
  },
  {
   "cell_type": "code",
   "execution_count": 38,
   "id": "25ddc5c2-33dd-46f5-a260-a02eaa49aa71",
   "metadata": {},
   "outputs": [
    {
     "data": {
      "text/plain": [
       "15"
      ]
     },
     "execution_count": 38,
     "metadata": {},
     "output_type": "execute_result"
    }
   ],
   "source": [
    "a.size"
   ]
  },
  {
   "cell_type": "code",
   "execution_count": 39,
   "id": "2d6333f6-b6bb-4fb0-8817-9cc1dd5e5bbc",
   "metadata": {},
   "outputs": [
    {
     "data": {
      "text/plain": [
       "numpy.ndarray"
      ]
     },
     "execution_count": 39,
     "metadata": {},
     "output_type": "execute_result"
    }
   ],
   "source": [
    "type(a)"
   ]
  },
  {
   "cell_type": "code",
   "execution_count": 40,
   "id": "87484a38-a1d6-4ea0-aaef-8c8fe0820a92",
   "metadata": {},
   "outputs": [
    {
     "data": {
      "text/plain": [
       "array([6, 7, 8])"
      ]
     },
     "execution_count": 40,
     "metadata": {},
     "output_type": "execute_result"
    }
   ],
   "source": [
    "b = np.array([6, 7, 8])\n",
    "b"
   ]
  },
  {
   "cell_type": "code",
   "execution_count": 41,
   "id": "c67b6217-aedf-48de-bd97-df31c81507cd",
   "metadata": {},
   "outputs": [
    {
     "data": {
      "text/plain": [
       "numpy.ndarray"
      ]
     },
     "execution_count": 41,
     "metadata": {},
     "output_type": "execute_result"
    }
   ],
   "source": [
    "type(b)"
   ]
  },
  {
   "cell_type": "markdown",
   "id": "31d0cf08-53f8-42d4-96e0-682da43ca08d",
   "metadata": {},
   "source": [
    "# 数组创建\n",
    "1. 使用 array 函数从 python 列表或元组创建。\n",
    "2. 使用 zeros 函数创建一个全 0 的数组。使用 ones 函数创建一个全 1 的函数。使用 empty 函数创建一个初始内容随机的数组。\n",
    "3. 使用 arange 函数创建数字序列。"
   ]
  },
  {
   "cell_type": "code",
   "execution_count": 42,
   "id": "742e9453-5534-4024-a051-40b895f9e7ab",
   "metadata": {},
   "outputs": [
    {
     "data": {
      "text/plain": [
       "array([1, 2, 3, 4])"
      ]
     },
     "execution_count": 42,
     "metadata": {},
     "output_type": "execute_result"
    }
   ],
   "source": [
    "a = np.array([1, 2, 3, 4])\n",
    "# a = np.array(1, 2, 3, 4) 错误写法\n",
    "a"
   ]
  },
  {
   "cell_type": "code",
   "execution_count": 43,
   "id": "70ba9926-5482-412a-bd15-67d422dcd5b3",
   "metadata": {},
   "outputs": [
    {
     "data": {
      "text/plain": [
       "dtype('int64')"
      ]
     },
     "execution_count": 43,
     "metadata": {},
     "output_type": "execute_result"
    }
   ],
   "source": [
    "a.dtype"
   ]
  },
  {
   "cell_type": "code",
   "execution_count": 44,
   "id": "4f62b923-61a2-41c7-8af6-4d16c7aa97b7",
   "metadata": {},
   "outputs": [
    {
     "data": {
      "text/plain": [
       "array([1.2, 3.5, 4.7])"
      ]
     },
     "execution_count": 44,
     "metadata": {},
     "output_type": "execute_result"
    }
   ],
   "source": [
    "b = np.array([1.2, 3.5, 4.7])\n",
    "b"
   ]
  },
  {
   "cell_type": "code",
   "execution_count": 45,
   "id": "3937258e-e8c1-49b5-bf5c-d974182dcef9",
   "metadata": {},
   "outputs": [
    {
     "data": {
      "text/plain": [
       "dtype('float64')"
      ]
     },
     "execution_count": 45,
     "metadata": {},
     "output_type": "execute_result"
    }
   ],
   "source": [
    "b.dtype"
   ]
  },
  {
   "cell_type": "code",
   "execution_count": 46,
   "id": "61c9ab8f-04c8-421f-9b94-482f2b6f5f10",
   "metadata": {},
   "outputs": [
    {
     "data": {
      "text/plain": [
       "array([[1., 2., 3.],\n",
       "       [4., 5., 6.]])"
      ]
     },
     "execution_count": 46,
     "metadata": {},
     "output_type": "execute_result"
    }
   ],
   "source": [
    "np.array([[1, 2, 3], [4, 5 ,6]], dtype=np.float64)"
   ]
  },
  {
   "cell_type": "code",
   "execution_count": 47,
   "id": "87fc987d-52e3-415a-ace0-81e7bcae9448",
   "metadata": {},
   "outputs": [
    {
     "data": {
      "text/plain": [
       "array([[0., 0., 0., 0.],\n",
       "       [0., 0., 0., 0.],\n",
       "       [0., 0., 0., 0.]])"
      ]
     },
     "execution_count": 47,
     "metadata": {},
     "output_type": "execute_result"
    }
   ],
   "source": [
    "np.zeros((3, 4))"
   ]
  },
  {
   "cell_type": "code",
   "execution_count": 48,
   "id": "86aa4ab6-dfb0-4def-999a-c7e8f5324105",
   "metadata": {},
   "outputs": [
    {
     "data": {
      "text/plain": [
       "array([[[1., 1., 1., 1.],\n",
       "        [1., 1., 1., 1.],\n",
       "        [1., 1., 1., 1.]],\n",
       "\n",
       "       [[1., 1., 1., 1.],\n",
       "        [1., 1., 1., 1.],\n",
       "        [1., 1., 1., 1.]]])"
      ]
     },
     "execution_count": 48,
     "metadata": {},
     "output_type": "execute_result"
    }
   ],
   "source": [
    "np.ones((2, 3, 4), dtype=np.float64)\n"
   ]
  },
  {
   "cell_type": "code",
   "execution_count": 49,
   "id": "9f8ebe11-1d61-435a-a690-616846db6afd",
   "metadata": {},
   "outputs": [
    {
     "data": {
      "text/plain": [
       "array([[1., 2., 3.],\n",
       "       [4., 5., 6.]])"
      ]
     },
     "execution_count": 49,
     "metadata": {},
     "output_type": "execute_result"
    }
   ],
   "source": [
    "np.empty((2, 3))"
   ]
  },
  {
   "cell_type": "code",
   "execution_count": 50,
   "id": "a4680e1c-82e1-4492-9663-3f41316f3a40",
   "metadata": {},
   "outputs": [
    {
     "data": {
      "text/plain": [
       "array([10, 15, 20, 25])"
      ]
     },
     "execution_count": 50,
     "metadata": {},
     "output_type": "execute_result"
    }
   ],
   "source": [
    "np.arange(10, 30, 5)"
   ]
  },
  {
   "cell_type": "code",
   "execution_count": 52,
   "id": "bf9f6697-d56a-442b-9163-a4592fd459d7",
   "metadata": {},
   "outputs": [
    {
     "data": {
      "text/plain": [
       "array([0. , 0.3, 0.6, 0.9, 1.2, 1.5, 1.8])"
      ]
     },
     "execution_count": 52,
     "metadata": {},
     "output_type": "execute_result"
    }
   ],
   "source": [
    "np.arange(0, 2, 0.3)"
   ]
  },
  {
   "cell_type": "markdown",
   "id": "743664d5-7e26-4d7a-89eb-9162f7e46b8d",
   "metadata": {},
   "source": [
    "# 基本操作\n",
    "数组上的算术运算符按照元素进行。创建一个新数组并用结果填充。\n",
    "\n",
    "算术运算符 * 在 numpy 数组中按照元素进行运算。矩阵乘积使用 @ 运算符或者 dot 函数来执行。\n",
    "\n",
    "某些操作 *=, += 会就地修改现有数组，而不是创建新数组。\n",
    "\n",
    "许多一元运算都是作为 ndarray 类的方法实现的。ndarray.sum(), ndarray.min(), ndarray.max()\n",
    "\n",
    "可以通过 axis 参数，沿数组指定轴应用操作"
   ]
  },
  {
   "cell_type": "code",
   "execution_count": 53,
   "id": "0f302ded-5fda-4621-b85c-fea6193d0cae",
   "metadata": {},
   "outputs": [
    {
     "data": {
      "text/plain": [
       "array([20, 29, 38, 47])"
      ]
     },
     "execution_count": 53,
     "metadata": {},
     "output_type": "execute_result"
    }
   ],
   "source": [
    "a = np.array([20, 30, 40, 50])\n",
    "b = np.arange(4)\n",
    "\n",
    "c = a - b\n",
    "c"
   ]
  },
  {
   "cell_type": "code",
   "execution_count": 54,
   "id": "aaae4fec-fc82-42eb-874a-f70545ed93e8",
   "metadata": {},
   "outputs": [
    {
     "data": {
      "text/plain": [
       "array([0, 1, 4, 9])"
      ]
     },
     "execution_count": 54,
     "metadata": {},
     "output_type": "execute_result"
    }
   ],
   "source": [
    "b**2"
   ]
  },
  {
   "cell_type": "code",
   "execution_count": 55,
   "id": "70f69ce2-4dd3-4916-9420-6190a4abac5e",
   "metadata": {},
   "outputs": [
    {
     "data": {
      "text/plain": [
       "array([ True,  True, False, False])"
      ]
     },
     "execution_count": 55,
     "metadata": {},
     "output_type": "execute_result"
    }
   ],
   "source": [
    "a < 35"
   ]
  },
  {
   "cell_type": "code",
   "execution_count": 56,
   "id": "29c69faf-48b2-4ccd-b0ff-47ff3f42771a",
   "metadata": {},
   "outputs": [
    {
     "data": {
      "text/plain": [
       "array([20, 30])"
      ]
     },
     "execution_count": 56,
     "metadata": {},
     "output_type": "execute_result"
    }
   ],
   "source": [
    "a[a < 35]"
   ]
  },
  {
   "cell_type": "code",
   "execution_count": 57,
   "id": "3efe3823-2522-4e02-8a67-d3169f5049d0",
   "metadata": {},
   "outputs": [
    {
     "data": {
      "text/plain": [
       "array([[2, 0],\n",
       "       [0, 4]])"
      ]
     },
     "execution_count": 57,
     "metadata": {},
     "output_type": "execute_result"
    }
   ],
   "source": [
    "A = np.array([[1, 1], [0, 1]])\n",
    "B = np.array([[2, 0], [3, 4]])\n",
    "\n",
    "A * B"
   ]
  },
  {
   "cell_type": "code",
   "execution_count": 58,
   "id": "dd7cf46a-dc3a-477b-8b49-cebb15e84eed",
   "metadata": {},
   "outputs": [
    {
     "data": {
      "text/plain": [
       "array([[5, 4],\n",
       "       [3, 4]])"
      ]
     },
     "execution_count": 58,
     "metadata": {},
     "output_type": "execute_result"
    }
   ],
   "source": [
    "A @ B"
   ]
  },
  {
   "cell_type": "code",
   "execution_count": 59,
   "id": "2a2622ce-cb2a-4d93-b79c-e2e9e7b54fbd",
   "metadata": {},
   "outputs": [
    {
     "data": {
      "text/plain": [
       "array([[5, 4],\n",
       "       [3, 4]])"
      ]
     },
     "execution_count": 59,
     "metadata": {},
     "output_type": "execute_result"
    }
   ],
   "source": [
    "A.dot(B)"
   ]
  },
  {
   "cell_type": "code",
   "execution_count": 65,
   "id": "9baa4524-f82a-44f1-9753-c2a56eddb06f",
   "metadata": {},
   "outputs": [
    {
     "data": {
      "text/plain": [
       "array([[1., 2., 3.],\n",
       "       [4., 5., 6.]])"
      ]
     },
     "execution_count": 65,
     "metadata": {},
     "output_type": "execute_result"
    }
   ],
   "source": [
    "a = np.empty((2, 3))\n",
    "a"
   ]
  },
  {
   "cell_type": "code",
   "execution_count": 66,
   "id": "7f0b12d8-9c81-4360-a0e8-e3f5b2d86c03",
   "metadata": {},
   "outputs": [
    {
     "data": {
      "text/plain": [
       "21.0"
      ]
     },
     "execution_count": 66,
     "metadata": {},
     "output_type": "execute_result"
    }
   ],
   "source": [
    "a.sum()"
   ]
  },
  {
   "cell_type": "code",
   "execution_count": 67,
   "id": "2659d248-9b6a-46df-a811-7753c9169049",
   "metadata": {},
   "outputs": [
    {
     "data": {
      "text/plain": [
       "6.0"
      ]
     },
     "execution_count": 67,
     "metadata": {},
     "output_type": "execute_result"
    }
   ],
   "source": [
    "a.max()"
   ]
  },
  {
   "cell_type": "code",
   "execution_count": 68,
   "id": "43e2eaf0-18b2-4b35-9fe6-58b416d4484f",
   "metadata": {},
   "outputs": [
    {
     "data": {
      "text/plain": [
       "1.0"
      ]
     },
     "execution_count": 68,
     "metadata": {},
     "output_type": "execute_result"
    }
   ],
   "source": [
    "a.min()"
   ]
  },
  {
   "cell_type": "code",
   "execution_count": 69,
   "id": "e12f801e-f437-435d-80f4-3b5df8da2fd4",
   "metadata": {},
   "outputs": [
    {
     "data": {
      "text/plain": [
       "array([[ 0,  1,  2,  3],\n",
       "       [ 4,  5,  6,  7],\n",
       "       [ 8,  9, 10, 11]])"
      ]
     },
     "execution_count": 69,
     "metadata": {},
     "output_type": "execute_result"
    }
   ],
   "source": [
    "b = np.arange(12).reshape(3, 4)\n",
    "b"
   ]
  },
  {
   "cell_type": "code",
   "execution_count": 71,
   "id": "70ca2d76-dec4-4d0f-b0d1-1b8da58e38f5",
   "metadata": {},
   "outputs": [
    {
     "data": {
      "text/plain": [
       "array([12, 15, 18, 21])"
      ]
     },
     "execution_count": 71,
     "metadata": {},
     "output_type": "execute_result"
    }
   ],
   "source": [
    "b.sum(axis=0) # sum of each column"
   ]
  },
  {
   "cell_type": "code",
   "execution_count": 72,
   "id": "9ab57096-b100-4032-b3f7-06fba029035b",
   "metadata": {},
   "outputs": [
    {
     "data": {
      "text/plain": [
       "array([ 3,  7, 11])"
      ]
     },
     "execution_count": 72,
     "metadata": {},
     "output_type": "execute_result"
    }
   ],
   "source": [
    "b.max(axis=1) # max of each row"
   ]
  },
  {
   "cell_type": "markdown",
   "id": "62293790-50b5-4e70-ba02-d3a05f436a9f",
   "metadata": {},
   "source": [
    "# 通用函数\n",
    "\n",
    "argmin(), argmax() 返回沿轴的最小值/最大值的索引\n",
    "\n",
    "argsort() 返回对数组进行排序的索引\n",
    "\n",
    "dot()  2 个数组的点积\n",
    "\n",
    "mean() 计算沿指定轴的算术平均值。\n",
    "\n",
    "median() 计算沿指定轴的中位数。\n"
   ]
  },
  {
   "cell_type": "code",
   "execution_count": 79,
   "id": "a4051812-7a6d-468e-95b8-d5609edc6bc0",
   "metadata": {},
   "outputs": [
    {
     "data": {
      "text/plain": [
       "3"
      ]
     },
     "execution_count": 79,
     "metadata": {},
     "output_type": "execute_result"
    }
   ],
   "source": [
    "a = np.array([2, 1, 5, 9, 0])\n",
    "np.argmax(a)"
   ]
  },
  {
   "cell_type": "code",
   "execution_count": 80,
   "id": "c754aaba-15c2-4041-a972-666e071f4d87",
   "metadata": {},
   "outputs": [
    {
     "data": {
      "text/plain": [
       "4"
      ]
     },
     "execution_count": 80,
     "metadata": {},
     "output_type": "execute_result"
    }
   ],
   "source": [
    "np.argmin(a)"
   ]
  },
  {
   "cell_type": "code",
   "execution_count": 81,
   "id": "35a4eefd-7d0b-4b0b-9a64-1108790cddfd",
   "metadata": {},
   "outputs": [
    {
     "data": {
      "text/plain": [
       "array([4, 1, 0, 2, 3])"
      ]
     },
     "execution_count": 81,
     "metadata": {},
     "output_type": "execute_result"
    }
   ],
   "source": [
    "np.argsort(a)"
   ]
  },
  {
   "cell_type": "code",
   "execution_count": 82,
   "id": "1ecc5b57-12ba-4ce2-8ca1-966725921a80",
   "metadata": {},
   "outputs": [
    {
     "data": {
      "text/plain": [
       "3.4"
      ]
     },
     "execution_count": 82,
     "metadata": {},
     "output_type": "execute_result"
    }
   ],
   "source": [
    "np.mean(a)"
   ]
  },
  {
   "cell_type": "code",
   "execution_count": 83,
   "id": "ae52b053-ff89-4b52-9942-b7ddf08ba759",
   "metadata": {},
   "outputs": [
    {
     "data": {
      "text/plain": [
       "2.0"
      ]
     },
     "execution_count": 83,
     "metadata": {},
     "output_type": "execute_result"
    }
   ],
   "source": [
    "np.median(a)"
   ]
  },
  {
   "cell_type": "markdown",
   "id": "4baa54fa-5cb5-4711-bbf9-9f883f9287dd",
   "metadata": {},
   "source": [
    "# 索引，切片和迭代\n",
    "\n",
    "一维数组可以别索引，切片和迭代。\n",
    "\n",
    "多维数组每个轴可以有一个索引，这些索引以逗号分隔的元组出现。当提供的索引数量少于轴的数量时，缺少的索引被视为完整的切片。\n",
    "\n",
    "如果想对数组中每个元素执行操作，可以使用 flat 属性，它是数组中所有元素的迭代器。"
   ]
  },
  {
   "cell_type": "code",
   "execution_count": 84,
   "id": "cf4aa4bc-913f-4367-8076-2f0429aec1cb",
   "metadata": {},
   "outputs": [
    {
     "data": {
      "text/plain": [
       "array([  0,   1,   8,  27,  64, 125, 216, 343, 512, 729])"
      ]
     },
     "execution_count": 84,
     "metadata": {},
     "output_type": "execute_result"
    }
   ],
   "source": [
    "a = np.arange(10)**3\n",
    "a"
   ]
  },
  {
   "cell_type": "code",
   "execution_count": 85,
   "id": "fa7a7354-8d2f-43a8-a5ff-4b5da183ec80",
   "metadata": {},
   "outputs": [
    {
     "data": {
      "text/plain": [
       "8"
      ]
     },
     "execution_count": 85,
     "metadata": {},
     "output_type": "execute_result"
    }
   ],
   "source": [
    "a[2]"
   ]
  },
  {
   "cell_type": "code",
   "execution_count": 86,
   "id": "01b5492c-eb6c-48ef-a8c6-1c8a79e0e716",
   "metadata": {},
   "outputs": [
    {
     "data": {
      "text/plain": [
       "array([ 8, 27, 64])"
      ]
     },
     "execution_count": 86,
     "metadata": {},
     "output_type": "execute_result"
    }
   ],
   "source": [
    "a[2:5]"
   ]
  },
  {
   "cell_type": "code",
   "execution_count": 87,
   "id": "ca5264f1-3bd8-4cf1-bb39-46891798177d",
   "metadata": {},
   "outputs": [
    {
     "data": {
      "text/plain": [
       "array([ 0,  8, 64])"
      ]
     },
     "execution_count": 87,
     "metadata": {},
     "output_type": "execute_result"
    }
   ],
   "source": [
    "a[:6:2]"
   ]
  },
  {
   "cell_type": "code",
   "execution_count": 88,
   "id": "934cc840-867c-4f68-8de8-d2c4905ce04f",
   "metadata": {},
   "outputs": [
    {
     "data": {
      "text/plain": [
       "array([  0,   1,   8,  27,  64, 125, 216, 343, 512, 729])"
      ]
     },
     "execution_count": 88,
     "metadata": {},
     "output_type": "execute_result"
    }
   ],
   "source": [
    "a"
   ]
  },
  {
   "cell_type": "code",
   "execution_count": 89,
   "id": "6e99fdfc-0821-4825-9bfa-31ae94c86353",
   "metadata": {},
   "outputs": [
    {
     "data": {
      "text/plain": [
       "array([729, 512, 343, 216, 125,  64,  27,   8,   1,   0])"
      ]
     },
     "execution_count": 89,
     "metadata": {},
     "output_type": "execute_result"
    }
   ],
   "source": [
    "a[::-1] #reversed a"
   ]
  },
  {
   "cell_type": "code",
   "execution_count": 90,
   "id": "6631685e-a55b-43b3-893f-08bdc3da4952",
   "metadata": {},
   "outputs": [],
   "source": [
    "b = a.reshape(2, 5)"
   ]
  },
  {
   "cell_type": "code",
   "execution_count": 91,
   "id": "d4411dd8-86ef-4c80-900e-3a0f6f64e562",
   "metadata": {},
   "outputs": [
    {
     "data": {
      "text/plain": [
       "array([[  0,   1,   8,  27,  64],\n",
       "       [125, 216, 343, 512, 729]])"
      ]
     },
     "execution_count": 91,
     "metadata": {},
     "output_type": "execute_result"
    }
   ],
   "source": [
    "b"
   ]
  },
  {
   "cell_type": "code",
   "execution_count": 92,
   "id": "9d72e271-54bc-409d-8092-a1bd41b7c850",
   "metadata": {},
   "outputs": [
    {
     "data": {
      "text/plain": [
       "1"
      ]
     },
     "execution_count": 92,
     "metadata": {},
     "output_type": "execute_result"
    }
   ],
   "source": [
    "b[0, 1]"
   ]
  },
  {
   "cell_type": "code",
   "execution_count": 93,
   "id": "e22fcd50-f31a-4156-9567-3f9e390f6c54",
   "metadata": {},
   "outputs": [
    {
     "data": {
      "text/plain": [
       "array([  0, 125])"
      ]
     },
     "execution_count": 93,
     "metadata": {},
     "output_type": "execute_result"
    }
   ],
   "source": [
    "b[0:2, 0]"
   ]
  },
  {
   "cell_type": "code",
   "execution_count": 94,
   "id": "5fc3b841-8537-4887-acd3-84c26fe3cb1f",
   "metadata": {},
   "outputs": [
    {
     "data": {
      "text/plain": [
       "array([[  0,   1,   8,  27,  64],\n",
       "       [125, 216, 343, 512, 729]])"
      ]
     },
     "execution_count": 94,
     "metadata": {},
     "output_type": "execute_result"
    }
   ],
   "source": [
    "b[0:2,:]"
   ]
  },
  {
   "cell_type": "code",
   "execution_count": 95,
   "id": "458179a9-1e13-442b-ba5b-b62a6e364678",
   "metadata": {},
   "outputs": [
    {
     "data": {
      "text/plain": [
       "array([125, 216, 343, 512, 729])"
      ]
     },
     "execution_count": 95,
     "metadata": {},
     "output_type": "execute_result"
    }
   ],
   "source": [
    "b[-1] #相当于 b[-1, :]"
   ]
  },
  {
   "cell_type": "code",
   "execution_count": 96,
   "id": "6a98128e-f9e2-4ba4-b552-2d85e5386d97",
   "metadata": {},
   "outputs": [
    {
     "name": "stdout",
     "output_type": "stream",
     "text": [
      "0\n",
      "1\n",
      "8\n",
      "27\n",
      "64\n",
      "125\n",
      "216\n",
      "343\n",
      "512\n",
      "729\n"
     ]
    }
   ],
   "source": [
    "for elem in b.flat:\n",
    "    print(elem)"
   ]
  },
  {
   "cell_type": "markdown",
   "id": "d7849573-d711-4363-ac7a-ccc4a0d30ac7",
   "metadata": {},
   "source": [
    "# 数组的堆叠与切分\n",
    "\n",
    "多维数组可以沿着不同的轴堆叠在一起。\n",
    "\n",
    "对于二维以上的数组， hstack 沿其第二个轴堆叠， vstack 沿其第一个轴堆叠。\n",
    "\n",
    "np.vstack((a, b))\n",
    "\n",
    "np.hstack((a, b))\n",
    "\n",
    "hsplit 沿水平轴分割数组，方法是指定要返回的形状相同的数组的数量，或者指定应在其后进行分割的列。vsplit 沿垂直轴分割。"
   ]
  },
  {
   "cell_type": "code",
   "execution_count": 99,
   "id": "f1339b51-7e12-4caa-850b-3b57de81b27e",
   "metadata": {},
   "outputs": [
    {
     "data": {
      "text/plain": [
       "array([[1, 2, 5, 6],\n",
       "       [3, 4, 7, 8]])"
      ]
     },
     "execution_count": 99,
     "metadata": {},
     "output_type": "execute_result"
    }
   ],
   "source": [
    "a = np.array([[1, 2], [3, 4]])\n",
    "b = np.array([[5, 6], [7, 8]])\n",
    "\n",
    "np.hstack((a, b))"
   ]
  },
  {
   "cell_type": "code",
   "execution_count": 100,
   "id": "2516b38b-4e15-4b28-b316-02dfa33eb1a3",
   "metadata": {},
   "outputs": [
    {
     "data": {
      "text/plain": [
       "array([[1, 2],\n",
       "       [3, 4],\n",
       "       [5, 6],\n",
       "       [7, 8]])"
      ]
     },
     "execution_count": 100,
     "metadata": {},
     "output_type": "execute_result"
    }
   ],
   "source": [
    "np.vstack((a, b))"
   ]
  },
  {
   "cell_type": "markdown",
   "id": "b304e0d1-13ba-4d6b-8b2d-299c60e23a29",
   "metadata": {},
   "source": [
    "# 副本和视图\n",
    "\n",
    "1. 根本没有副本：简单的赋值不就复制对象或其数据。python 将可变对象作为引用传递，因此函数调用不会进行复制。\n",
    "2. 视图或浅拷贝：不同的数组对象可以共享相同的数据。切片数组返回它的视图。\n",
    "3. 深拷贝：copy 方法创建数组及其数据的完整副本。"
   ]
  },
  {
   "cell_type": "code",
   "execution_count": 101,
   "id": "fe8f91ee-5437-4428-a5aa-d1704bd9ecb2",
   "metadata": {},
   "outputs": [
    {
     "data": {
      "text/plain": [
       "True"
      ]
     },
     "execution_count": 101,
     "metadata": {},
     "output_type": "execute_result"
    }
   ],
   "source": [
    "a = np.array([[0, 1, 2, 3],\n",
    "              [4, 5, 6, 7],\n",
    "              [8, 9, 10, 11]])\n",
    "b = a # no new object is created\n",
    "b is a # b and a are two names for the same ndarray object"
   ]
  },
  {
   "cell_type": "code",
   "execution_count": 102,
   "id": "7e6ae633-7c34-4d72-8b3c-b87fc6d27eab",
   "metadata": {},
   "outputs": [
    {
     "data": {
      "text/plain": [
       "array([[ 1,  2],\n",
       "       [ 5,  6],\n",
       "       [ 9, 10]])"
      ]
     },
     "execution_count": 102,
     "metadata": {},
     "output_type": "execute_result"
    }
   ],
   "source": [
    "s = a[:, 1:3]\n",
    "s"
   ]
  },
  {
   "cell_type": "code",
   "execution_count": 103,
   "id": "d8bf0de4-456b-4e54-9deb-7d42f7f22643",
   "metadata": {},
   "outputs": [
    {
     "data": {
      "text/plain": [
       "array([[10, 10],\n",
       "       [10, 10],\n",
       "       [10, 10]])"
      ]
     },
     "execution_count": 103,
     "metadata": {},
     "output_type": "execute_result"
    }
   ],
   "source": [
    "s[:] = 10\n",
    "s"
   ]
  },
  {
   "cell_type": "code",
   "execution_count": 104,
   "id": "f721d35c-dd6e-43f5-bdc1-9b241a144d14",
   "metadata": {},
   "outputs": [
    {
     "data": {
      "text/plain": [
       "array([[ 0, 10, 10,  3],\n",
       "       [ 4, 10, 10,  7],\n",
       "       [ 8, 10, 10, 11]])"
      ]
     },
     "execution_count": 104,
     "metadata": {},
     "output_type": "execute_result"
    }
   ],
   "source": [
    "a"
   ]
  },
  {
   "cell_type": "code",
   "execution_count": 108,
   "id": "c2de10f6-3469-4791-9ad9-3631be40e7a4",
   "metadata": {},
   "outputs": [
    {
     "data": {
      "text/plain": [
       "array([[ 0, 10, 10,  3],\n",
       "       [ 4, 10, 10,  7],\n",
       "       [ 8, 10, 10, 11]])"
      ]
     },
     "execution_count": 108,
     "metadata": {},
     "output_type": "execute_result"
    }
   ],
   "source": [
    "d = a.copy() # a new array object with new data is created\n",
    "d"
   ]
  },
  {
   "cell_type": "code",
   "execution_count": 109,
   "id": "1d857419-ab76-40c5-a016-4adc02bfba6a",
   "metadata": {},
   "outputs": [
    {
     "data": {
      "text/plain": [
       "array([[ 0, 20, 20,  3],\n",
       "       [ 4, 20, 20,  7],\n",
       "       [ 8, 20, 20, 11]])"
      ]
     },
     "execution_count": 109,
     "metadata": {},
     "output_type": "execute_result"
    }
   ],
   "source": [
    "d[:, 1:3] = 20\n",
    "d"
   ]
  },
  {
   "cell_type": "code",
   "execution_count": 110,
   "id": "6bcb7859-fe20-40bd-9f3e-fdc70bb4b817",
   "metadata": {},
   "outputs": [
    {
     "data": {
      "text/plain": [
       "array([[ 0, 10, 10,  3],\n",
       "       [ 4, 10, 10,  7],\n",
       "       [ 8, 10, 10, 11]])"
      ]
     },
     "execution_count": 110,
     "metadata": {},
     "output_type": "execute_result"
    }
   ],
   "source": [
    "a"
   ]
  },
  {
   "cell_type": "markdown",
   "id": "70f739b5-bf2f-476c-9084-15352dcc4a58",
   "metadata": {},
   "source": [
    "## 函数和方法\n",
    "1. 数组创建：arange, array, cpoy, empty, zeros, linspace\n",
    "2. 转换：astype\n",
    "3. 操作：hsplit, hstack, reshape, vsplit, vstack\n",
    "4. 排序：argmax, argmin, argsort, max, min, sort\n",
    "5. 基础统计：mean, std\n",
    "6. 基础线性代数：dot"
   ]
  },
  {
   "cell_type": "code",
   "execution_count": 112,
   "id": "19b3e3c0-aac0-4db7-8abb-c41815d85f32",
   "metadata": {},
   "outputs": [
    {
     "data": {
      "text/plain": [
       "array([2.  , 2.25, 2.5 , 2.75, 3.  ])"
      ]
     },
     "execution_count": 112,
     "metadata": {},
     "output_type": "execute_result"
    }
   ],
   "source": [
    "np.linspace(2.0, 3.0, 5) #返回指定间隔内均匀分布的数字。返回 num 个均匀间隔的样本，在间隔 [start, stop] 上计算。"
   ]
  },
  {
   "cell_type": "code",
   "execution_count": 113,
   "id": "44c92639-f9a9-4dcf-89ef-937107c703ad",
   "metadata": {},
   "outputs": [
    {
     "data": {
      "text/plain": [
       "array([1. , 2. , 2.5])"
      ]
     },
     "execution_count": 113,
     "metadata": {},
     "output_type": "execute_result"
    }
   ],
   "source": [
    "x = np.array([1, 2, 2.5])\n",
    "x"
   ]
  },
  {
   "cell_type": "code",
   "execution_count": 114,
   "id": "405264b4-86b9-460c-a290-889a0addb057",
   "metadata": {},
   "outputs": [
    {
     "data": {
      "text/plain": [
       "array([1, 2, 2])"
      ]
     },
     "execution_count": 114,
     "metadata": {},
     "output_type": "execute_result"
    }
   ],
   "source": [
    "x.astype(int) #数组的副本，转换为指定类型。"
   ]
  },
  {
   "cell_type": "markdown",
   "id": "ed3f26b3-8528-4eae-9c38-4d9aac305eae",
   "metadata": {},
   "source": [
    "## 广播规则\n",
    "1. 如果所有输入数组的维数不同，则将在较小数组的形状前面重复添加“1”，直到所有数组具有相同的维数。\n",
    "2. 确保沿特定维度大小为 1 的数组的行为就像它们具有沿该维度具有最大形状的数组的大小一样。假设数组元素的值在“广播”数组的该维度上是相同的。"
   ]
  },
  {
   "cell_type": "markdown",
   "id": "03b67083-297c-40c2-b8c9-e2af46a229d4",
   "metadata": {},
   "source": [
    "## 索引\n",
    "数组可以通过整数数组和布尔值数组进行索引"
   ]
  },
  {
   "cell_type": "code",
   "execution_count": 115,
   "id": "a4b46ddf-a857-4e25-afd2-71380048c5e3",
   "metadata": {},
   "outputs": [
    {
     "data": {
      "text/plain": [
       "array([ 1,  1,  9, 64, 25])"
      ]
     },
     "execution_count": 115,
     "metadata": {},
     "output_type": "execute_result"
    }
   ],
   "source": [
    "a = np.arange(12)**2\n",
    "i = np.array([1, 1, 3, 8, 5])\n",
    "a[i]"
   ]
  },
  {
   "cell_type": "code",
   "execution_count": 116,
   "id": "b0a7dc73-86b8-4b53-a1db-c8c8b6de1004",
   "metadata": {},
   "outputs": [
    {
     "data": {
      "text/plain": [
       "array([[False, False, False, False],\n",
       "       [False,  True,  True,  True],\n",
       "       [ True,  True,  True,  True]])"
      ]
     },
     "execution_count": 116,
     "metadata": {},
     "output_type": "execute_result"
    }
   ],
   "source": [
    "a = np.arange(12).reshape(3, 4)\n",
    "b = a > 4\n",
    "b"
   ]
  },
  {
   "cell_type": "code",
   "execution_count": 117,
   "id": "f01c869e-4542-442b-b85f-f368e2170ff3",
   "metadata": {},
   "outputs": [
    {
     "data": {
      "text/plain": [
       "array([ 5,  6,  7,  8,  9, 10, 11])"
      ]
     },
     "execution_count": 117,
     "metadata": {},
     "output_type": "execute_result"
    }
   ],
   "source": [
    "a[b]"
   ]
  },
  {
   "cell_type": "code",
   "execution_count": 118,
   "id": "e9e2e1a4-bfb2-414a-81e3-0606bc001dce",
   "metadata": {},
   "outputs": [
    {
     "data": {
      "text/plain": [
       "array([ 5,  6,  7,  8,  9, 10, 11])"
      ]
     },
     "execution_count": 118,
     "metadata": {},
     "output_type": "execute_result"
    }
   ],
   "source": [
    "a[a > 4]"
   ]
  },
  {
   "cell_type": "code",
   "execution_count": 119,
   "id": "6faaeecf-d4d5-4653-91e2-0b5be5ca5380",
   "metadata": {},
   "outputs": [
    {
     "data": {
      "text/plain": [
       "array([[ 0,  1,  2,  3],\n",
       "       [ 4,  5,  6,  7],\n",
       "       [ 8,  9, 10, 11]])"
      ]
     },
     "execution_count": 119,
     "metadata": {},
     "output_type": "execute_result"
    }
   ],
   "source": [
    "a"
   ]
  },
  {
   "cell_type": "code",
   "execution_count": null,
   "id": "aabd4e26-e2a9-45fd-8931-ffda5a371b57",
   "metadata": {},
   "outputs": [],
   "source": []
  }
 ],
 "metadata": {
  "kernelspec": {
   "display_name": "Python 3 (ipykernel)",
   "language": "python",
   "name": "python3"
  },
  "language_info": {
   "codemirror_mode": {
    "name": "ipython",
    "version": 3
   },
   "file_extension": ".py",
   "mimetype": "text/x-python",
   "name": "python",
   "nbconvert_exporter": "python",
   "pygments_lexer": "ipython3",
   "version": "3.12.1"
  }
 },
 "nbformat": 4,
 "nbformat_minor": 5
}
